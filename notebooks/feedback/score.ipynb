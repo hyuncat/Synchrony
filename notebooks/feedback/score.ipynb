{
 "cells": [
  {
   "cell_type": "code",
   "execution_count": 1,
   "metadata": {},
   "outputs": [],
   "source": [
    "%load_ext autoreload\n",
    "%autoreload 2"
   ]
  },
  {
   "cell_type": "code",
   "execution_count": 83,
   "metadata": {},
   "outputs": [],
   "source": [
    "import sys\n",
    "sys.path.append('../..')\n",
    "\n",
    "from app.core.audio.AudioData import AudioData\n",
    "from app.core.audio.AudioPlayer import AudioPlayer\n",
    "from app.core.midi.MidiData import MidiData\n",
    "from app.core.midi.MidiPlayer import MidiPlayer\n",
    "from app.core.midi.MidiSynth import MidiSynth\n",
    "\n",
    "from music21 import converter, note, expressions"
   ]
  },
  {
   "cell_type": "code",
   "execution_count": 121,
   "metadata": {},
   "outputs": [
    {
     "name": "stderr",
     "output_type": "stream",
     "text": [
      "LY output to `fugue.ly'...\n"
     ]
    }
   ],
   "source": [
    "import subprocess\n",
    "\n",
    "def midi_to_lilypond(midi_file, output_ly_file):\n",
    "    \"\"\"\n",
    "    Convert a MIDI file to a LilyPond (.ly) file using midi2ly.\n",
    "    \"\"\"\n",
    "    subprocess.run([\"midi2ly\", midi_file, \"-o\", output_ly_file], check=True)\n",
    "\n",
    "# Generate the LilyPond file from MIDI\n",
    "midi_to_lilypond(\"fugue.mid\", \"fugue.ly\")"
   ]
  },
  {
   "cell_type": "code",
   "execution_count": 147,
   "metadata": {},
   "outputs": [
    {
     "name": "stdout",
     "output_type": "stream",
     "text": [
      "Annotations added to notes at indices [1, 3, 5]. Saved to fugue_annot.ly\n"
     ]
    }
   ],
   "source": [
    "import re\n",
    "\n",
    "def add_arrows(ly_file, output_file, note_indices):\n",
    "    \"\"\"\n",
    "    Adds an '↑' annotation above specific notes by index in a LilyPond (.ly) file,\n",
    "    ensuring that annotations are only added after entering the note block.\n",
    "\n",
    "    Args:\n",
    "        ly_file (str): Path to the input LilyPond file.\n",
    "        output_file (str): Path to save the output LilyPond file with annotations.\n",
    "        note_indices (list of int): List of note indices to annotate.\n",
    "    \"\"\"\n",
    "    note_indices = [n+1 for n in note_indices]\n",
    "    \n",
    "    with open(ly_file, 'r') as f:\n",
    "        lines = f.readlines()\n",
    "\n",
    "    # Refined regex to match only valid LilyPond notes\n",
    "    note_pattern = re.compile(r\"\\b([a-g](?:['|,]*)\\d*)\\b\")\n",
    "    note_count = 0  # Track the current note index\n",
    "    in_note_block = False  # Track if we're inside the note block\n",
    "    annotated_lines = []\n",
    "\n",
    "    for line in lines:\n",
    "        # Check for the start of the note block\n",
    "        if \"{\" in line and not in_note_block:\n",
    "            in_note_block = True  # Start processing notes after the first '{'\n",
    "            annotated_lines.append(line)\n",
    "            continue\n",
    "        \n",
    "        # Skip lines that are comments or if not in a note block\n",
    "        if line.strip().startswith(\"%\") or not in_note_block:\n",
    "            annotated_lines.append(line)\n",
    "            continue\n",
    "\n",
    "        # Define the annotation function to annotate specific notes\n",
    "        def annotate(match):\n",
    "            nonlocal note_count\n",
    "            note = match.group(1)\n",
    "            if note_count in note_indices:\n",
    "                # Add arrow annotation using markup\n",
    "                annotated_note = f\"{note}^\\\\markup {{ \\\"↑\\\" }}\"\n",
    "            else:\n",
    "                annotated_note = note\n",
    "            note_count += 1\n",
    "            return annotated_note\n",
    "\n",
    "        # Apply the annotation function to each line containing notes\n",
    "        annotated_line = note_pattern.sub(annotate, line)\n",
    "        annotated_lines.append(annotated_line)\n",
    "\n",
    "    # Write the annotated content to the output file\n",
    "    with open(output_file, 'w') as f:\n",
    "        f.writelines(annotated_lines)\n",
    "\n",
    "    print(f\"Annotations added to notes at indices {note_indices}. Saved to {output_file}\")\n",
    "\n",
    "# Usage example: Annotate the first, third, and fifth notes\n",
    "indices_to_annotate = [0, 2, 4]\n",
    "add_arrows(\"fugue.ly\", \"fugue_annot.ly\", indices_to_annotate)"
   ]
  },
  {
   "cell_type": "code",
   "execution_count": 162,
   "metadata": {},
   "outputs": [
    {
     "name": "stdout",
     "output_type": "stream",
     "text": [
      "Output directory: /Users/sarah/Desktop/shasha/virtuOS/notebooks/score\n"
     ]
    },
    {
     "name": "stderr",
     "output_type": "stream",
     "text": [
      "Processing `fugue_annot.ly'\n",
      "Parsing...\n",
      "fugue_annot.ly:22:9: error: wrong type for argument 2.  Expecting list of number pairs, found (make-music (quote TextScriptEvent) (quote direction) 1 (quote text) (markup #:line (#:simple \"↑\")))\n",
      "  \\key c\n",
      "        ^\\markup { \"↑\" } \\major\n",
      "fugue_annot.ly:22:26: warning: Ignoring non-music expression\n",
      "  \\key c^\\markup { \"↑\" } \n",
      "                         \\major\n",
      "\n",
      "Note: compilation failed and \\version outdated, did you\n",
      "update input syntax with convert-ly?\n",
      "\n",
      "  https://lilypond.org/doc/v2.24/Documentation/usage/updating-files-with-convert_002dly\n",
      "\n",
      "Interpreting music...\n",
      "Preprocessing graphical objects...\n",
      "Interpreting music...\n",
      "MIDI output to `fugue_annot.midi'...\n",
      "Finding the ideal number of pages...\n",
      "Fitting music on 1 page...\n",
      "Drawing systems...\n",
      "Converting to PNG..."
     ]
    },
    {
     "name": "stdout",
     "output_type": "stream",
     "text": [
      "Error: LilyPond conversion failed. Ensure LilyPond is installed and in your PATH.\n"
     ]
    },
    {
     "name": "stderr",
     "output_type": "stream",
     "text": [
      "\n",
      "fatal error: failed files: \"fugue_annot.ly\"\n"
     ]
    }
   ],
   "source": [
    "import subprocess\n",
    "import os\n",
    "\n",
    "def ly_to_png(ly_file, output_dir=None):\n",
    "    \"\"\"\n",
    "    Convert a LilyPond (.ly) file to a PNG image.\n",
    "\n",
    "    Args:\n",
    "        ly_file (str): Path to the input LilyPond file.\n",
    "        output_dir (str, optional): Directory to save the PNG file. Defaults to the same directory as `ly_file`.\n",
    "\n",
    "    Returns:\n",
    "        str: Path to the generated PNG file.\n",
    "    \"\"\"\n",
    "    # Use the directory of the input file if no output directory is specified\n",
    "    if output_dir is None:\n",
    "        output_dir = os.path.dirname(os.path.abspath(ly_file))  # Get absolute path of the ly_file's directory\n",
    "    \n",
    "    print(f\"Output directory: {output_dir}\")\n",
    "\n",
    "    # Ensure output directory exists\n",
    "    os.makedirs(output_dir, exist_ok=True)\n",
    "\n",
    "    # Run LilyPond to generate PNG, setting backend to EPS and resolution to 300 DPI for good quality\n",
    "    try:\n",
    "        subprocess.run([\n",
    "            \"lilypond\",\n",
    "            \"-fpng\",\n",
    "            \"-dresolution=600\",\n",
    "            ly_file  # Input .ly file\n",
    "        ], check=True)\n",
    "\n",
    "        # Find the generated PNG file\n",
    "        base_name = os.path.splitext(os.path.basename(ly_file))[0]\n",
    "        png_file = os.path.join(output_dir, f\"{base_name}.png\")\n",
    "        \n",
    "        if os.path.exists(png_file):\n",
    "            print(f\"Conversion successful! PNG saved as {png_file}\")\n",
    "            return png_file\n",
    "        else:\n",
    "            print(\"Error: PNG file not found. Conversion may have failed.\")\n",
    "            return None\n",
    "\n",
    "    except subprocess.CalledProcessError:\n",
    "        print(\"Error: LilyPond conversion failed. Ensure LilyPond is installed and in your PATH.\")\n",
    "        return None\n",
    "\n",
    "# Example usage\n",
    "ly_to_png(ly_file=\"fugue_annot.ly\", output_dir=None)"
   ]
  },
  {
   "cell_type": "code",
   "execution_count": 1,
   "metadata": {},
   "outputs": [
    {
     "name": "stderr",
     "output_type": "stream",
     "text": [
      "qt.pointer.dispatch: skipping QEventPoint(id=1 ts=0 pos=0,0 scn=446.349,321.874 gbl=446.349,321.874 Released ellipse=(1x1 ∡ 0) vel=0,0 press=-446.349,-321.874 last=-446.349,-321.874 Δ 446.349,321.874) : no target window\n"
     ]
    }
   ],
   "source": [
    "# Run the ScoreViewer\n",
    "import sys\n",
    "sys.path.append('..')\n",
    "\n",
    "from ScoreViewer import RunScoreViewer\n",
    "from PyQt6.QtWidgets import QApplication\n",
    "from PyQt6.QtCore import QCoreApplication\n",
    "\n",
    "\n",
    "if __name__ == '__main__':\n",
    "    if not QCoreApplication.instance():\n",
    "        app = QApplication(sys.argv)\n",
    "    else:\n",
    "        app = QCoreApplication.instance()\n",
    "\n",
    "    score_viewer = RunScoreViewer(app, 'fugue_annot.png')\n",
    "    "
   ]
  },
  {
   "cell_type": "code",
   "execution_count": 118,
   "metadata": {},
   "outputs": [
    {
     "data": {
      "text/plain": [
       "PosixPath('/Users/sarah/Desktop/shasha/virtuOS/notebooks/score/fugue_annot.musicxml')"
      ]
     },
     "execution_count": 118,
     "metadata": {},
     "output_type": "execute_result"
    }
   ],
   "source": [
    "from music21 import articulations\n",
    "# parse XML into a score\n",
    "score = converter.parse(\"fugue.musicxml\")\n",
    "\n",
    "for n in score.flat.notes:\n",
    "    if isinstance(n, note.Note):\n",
    "        n.style.color = 'red'\n",
    "        exp = articulations.Staccato()\n",
    "        n.expressions.append(exp)\n",
    "        # print(n.expressions)\n",
    "\n",
    "# Save the annotated score as MusicXML\n",
    "score.write(\"musicxml\", fp=\"fugue_annot.musicxml\")"
   ]
  },
  {
   "cell_type": "code",
   "execution_count": 119,
   "metadata": {},
   "outputs": [
    {
     "name": "stderr",
     "output_type": "stream",
     "text": [
      "dlopen error : dlopen(libjack.0.dylib, 0x0001): tried: 'libjack.0.dylib' (no such file), '/System/Volumes/Preboot/Cryptexes/OSlibjack.0.dylib' (no such file), '/Applications/MuseScore 3.app/Contents/Frameworks/libjack.0.dylib' (no such file), '/Applications/MuseScore 3.app/Contents/Frameworks/libjack.0.dylib' (no such file), '/usr/lib/libjack.0.dylib' (no such file, not in dyld cache), 'libjack.0.dylib' (no such file), '/usr/lib/libjack.0.dylib' (no such file, not in dyld cache) \n",
      "dlopen error : dlopen(/usr/local/lib/libjack.0.dylib, 0x0001): tried: '/usr/local/lib/libjack.0.dylib' (no such file), '/System/Volumes/Preboot/Cryptexes/OS/usr/local/lib/libjack.0.dylib' (no such file), '/usr/local/lib/libjack.0.dylib' (no such file) \n",
      "Creating main window…\n",
      "ZoomBox::setLogicalZoom(): Formatting logical zoom level as 100% (rounded from 1.000000)\n",
      "Reading translations…\n",
      "convert <fugue_annot.musicxml>...\n",
      "importMusicXml() file 'fugue_annot.musicxml' is not a valid MusicXML file\n",
      "JIT is disabled for QML. Property bindings and animations will be very slow. Visit https://wiki.qt.io/V4 to learn about possible solutions for your platform.\n",
      "\tto <fugue_annot.png>\n",
      "... success!\n"
     ]
    }
   ],
   "source": [
    "import subprocess\n",
    "\n",
    "def xml_to_png(xml_file, output_png):\n",
    "    \"\"\"\n",
    "    Convert xml to png with musescore.\n",
    "\n",
    "    Appends \"-1\", \"-2\", etc. for each page of score generated.\n",
    "    Eg, output_png=\"fugue.png\" -> \"fugue-1.png\"\n",
    "    \"\"\"\n",
    "    # note: this works on my computer but may need to find more elegant\n",
    "    # solution later on...\n",
    "    MUSESCORE_PATH = \"/Applications/MuseScore 3.app/Contents/MacOS/mscore\"\n",
    "    subprocess.run([MUSESCORE_PATH, \"-o\", output_png, xml_file], check=True)\n",
    "\n",
    "\n",
    "xml_to_png(\"fugue_annot.musicxml\", \"fugue_annot.png\")"
   ]
  },
  {
   "cell_type": "code",
   "execution_count": 63,
   "metadata": {},
   "outputs": [
    {
     "name": "stdout",
     "output_type": "stream",
     "text": [
      "Loading MidiSynth...\n",
      "Synth + soundfont loaded.\n"
     ]
    },
    {
     "name": "stderr",
     "output_type": "stream",
     "text": [
      "WARNING:root:Unhandled message: pitchwheel channel=0 pitch=0 time=0\n"
     ]
    }
   ],
   "source": [
    "# Convert xml to midi for analysis in app\n",
    "\n",
    "score = converter.parse(\"fugue.musicxml\")\n",
    "score.write('midi', fp=\"fugue.mid\")\n",
    "\n",
    "# Create a synth with a soundfont\n",
    "SOUNDFONT_FILEPATH = '../../app/resources/MuseScore_General.sf3'\n",
    "midi_synth = MidiSynth(SOUNDFONT_FILEPATH)\n",
    "\n",
    "# Load the midi file into a MidiData object\n",
    "MIDI_FILEPATH = 'fugue.mid'\n",
    "midi_data = MidiData(MIDI_FILEPATH)\n",
    "\n",
    "# Create MidiSynth/Player objects\n",
    "midi_player = MidiPlayer(midi_synth)\n",
    "midi_player.load_midi(midi_data)\n",
    "\n",
    "midi_player.play(start_time=0) # Play the MIDI"
   ]
  },
  {
   "cell_type": "code",
   "execution_count": 73,
   "metadata": {},
   "outputs": [],
   "source": [
    "# turn xml into mido message format (unused)\n",
    "from music21 import tempo, note\n",
    "import mido\n",
    "\n",
    "def parse_xml_to_mido_messages(xml_file_path: str) -> list:\n",
    "    score = converter.parse(xml_file_path)\n",
    "    midi_messages = []\n",
    "    elapsed_time = 0  # Time in seconds\n",
    "\n",
    "    # Extract tempo if it exists\n",
    "    bpm = 100  # Default tempo if none is set\n",
    "    score_bpm = score.flat.getElementsByClass(tempo.MetronomeMark)\n",
    "    if score_bpm:\n",
    "        bpm = score_bpm[0].number # take it as the first tempo if it exists\n",
    "\n",
    "    sec_per_beat = 60 / bpm # convert beats/min -> sec/beat based on tempo\n",
    "\n",
    "    # Traverse the score\n",
    "    for part in score.parts:\n",
    "        midi_channel = part.getInstrument().midiChannel if part.getInstrument() else 0\n",
    "        \n",
    "        # Handle program change\n",
    "        instr = part.getInstrument()\n",
    "        if instr:\n",
    "            program_message = mido.Message('program_change', channel=midi_channel, program=instr.midiProgram)\n",
    "            midi_messages.append(program_message)\n",
    "\n",
    "        # Process each note or rest\n",
    "        for elem in part.recurse():\n",
    "            if isinstance(elem, note.Note) or isinstance(elem, note.Rest):\n",
    "                start_time = elapsed_time + (elem.offset*sec_per_beat)\n",
    "                duration_time = elem.quarterLength * sec_per_beat\n",
    "\n",
    "                if isinstance(elem, note.Note):\n",
    "                    # Create 'note_on' message\n",
    "                    note_on_msg = mido.Message('note_on', channel=midi_channel, note=elem.pitch.midi, velocity=64, time=start_time)\n",
    "                    midi_messages.append(note_on_msg)\n",
    "                    \n",
    "                    # Create 'note_off' message after the duration\n",
    "                    note_off_msg = mido.Message('note_off', channel=midi_channel, note=elem.pitch.midi, velocity=64, time=start_time + duration_time)\n",
    "                    midi_messages.append(note_off_msg)\n",
    "                elif isinstance(elem, note.Rest):\n",
    "                    # Treat rest as a silent period with just an elapsed time increment\n",
    "                    elapsed_time += duration_time\n",
    "\n",
    "    return midi_messages\n",
    "\n",
    "midi_msgs = parse_xml_to_mido_messages(\"fugue.mxl\")\n",
    "# midi_msgs"
   ]
  }
 ],
 "metadata": {
  "kernelspec": {
   "display_name": "v-venv",
   "language": "python",
   "name": "python3"
  },
  "language_info": {
   "codemirror_mode": {
    "name": "ipython",
    "version": 3
   },
   "file_extension": ".py",
   "mimetype": "text/x-python",
   "name": "python",
   "nbconvert_exporter": "python",
   "pygments_lexer": "ipython3",
   "version": "3.12.4"
  }
 },
 "nbformat": 4,
 "nbformat_minor": 2
}
