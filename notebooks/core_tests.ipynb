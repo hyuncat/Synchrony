{
 "cells": [
  {
   "cell_type": "markdown",
   "metadata": {},
   "source": [
    "## Core Tests\n",
    "\n",
    "Test the functionality of the basic audio/MIDI handling features of the app.\n",
    "\n",
    "- Loading audio/MIDI\n",
    "- Playback audio/MIDI"
   ]
  },
  {
   "cell_type": "code",
   "execution_count": null,
   "metadata": {},
   "outputs": [],
   "source": [
    "%load_ext autoreload\n",
    "%autoreload 2"
   ]
  },
  {
   "cell_type": "code",
   "execution_count": 5,
   "metadata": {},
   "outputs": [
    {
     "name": "stdout",
     "output_type": "stream",
     "text": [
      "Importing the dtw module. When using in academic works please cite:\n",
      "  T. Giorgino. Computing and Visualizing Dynamic Time Warping Alignments in R: The dtw Package.\n",
      "  J. Stat. Soft., doi:10.18637/jss.v031.i07.\n",
      "\n"
     ]
    }
   ],
   "source": [
    "import sys\n",
    "sys.path.append('..') # leave the notebooks folder into root as the main\n",
    "\n",
    "from app.core.audio.AudioData import AudioData\n",
    "from app.core.audio.AudioPlayer import AudioPlayer\n",
    "from app.core.midi.MidiData import MidiData\n",
    "from app.core.midi.MidiPlayer import MidiPlayer\n",
    "from app.core.midi.MidiSynth import MidiSynth\n",
    "\n",
    "from app.algorithms.pitch.PYin import PYin\n",
    "from app.algorithms.align.OnsetDf import UserOnsetDf, MidiOnsetDf\n",
    "from app.config import AppConfig\n",
    "from app.core.recording.PitchDf import PitchDf, PitchConfig\n",
    "from app.algorithms.align.DTW import DTW\n",
    "from app.algorithms.align.CQT import CQT"
   ]
  },
  {
   "cell_type": "markdown",
   "metadata": {},
   "source": [
    "## CORE: MidiData, MidiPlayer, MidiSynth\n",
    "Load in a MIDI file and create a `MidiData` instance to turn it into a dataframe of messages to be parsed in other parts of the program.\n",
    "\n",
    "You can play the MIDI to inspect that it sounds right by first loading a `MidiSynth` instance (+ providing a soundfont file), loading your MidiData into a `MidiPlayer` instance, and then running `play()`."
   ]
  },
  {
   "cell_type": "code",
   "execution_count": 6,
   "metadata": {},
   "outputs": [
    {
     "name": "stdout",
     "output_type": "stream",
     "text": [
      "Loading MidiSynth...\n",
      "Synth + soundfont loaded.\n"
     ]
    }
   ],
   "source": [
    "# To inspect how MIDI file is currently parsed\n",
    "MIDI_FILEPATH = 'data/midi_files/fugue_midi.mid'\n",
    "midi_data = MidiData(MIDI_FILEPATH)\n",
    "\n",
    "# Initialize a MidiSynth + MidiPlayer with a given soundfont\n",
    "SOUNDFONT = 'data/MuseScore_General.sf3'\n",
    "midi_synth = MidiSynth(soundfont_path=SOUNDFONT)\n",
    "midi_player = MidiPlayer(midi_synth)\n",
    "\n",
    "# Play the midi file\n",
    "midi_player.load_midi(midi_data)\n",
    "midi_player.play(start_time=0)"
   ]
  },
  {
   "cell_type": "markdown",
   "metadata": {},
   "source": [
    "## CORE: AudioData, AudioPlayer\n",
    "\n",
    "Load in an audio file (.mp3) and create a `AudioData` instance to convert it into a numpy array of samples which can be played out using an `AudioPlayer` instance which uses the `sounddevice` package to play the audio in a separate thread.\n",
    "\n",
    "Uses the sample rate configured in `app/config.py`, which is set to 44100 as default."
   ]
  },
  {
   "cell_type": "code",
   "execution_count": 7,
   "metadata": {},
   "outputs": [],
   "source": [
    "AUDIO_FILEPATH = 'data/audio_files/user_fugue2.mp3'\n",
    "user_audio = AudioData(audio_filepath=AUDIO_FILEPATH, sample_rate=44100)\n",
    "\n",
    "audio_player = AudioPlayer()\n",
    "audio_player.load_audio_data(user_audio) # load the player\n",
    "audio_player.play()"
   ]
  }
 ],
 "metadata": {
  "kernelspec": {
   "display_name": "v-venv",
   "language": "python",
   "name": "python3"
  },
  "language_info": {
   "codemirror_mode": {
    "name": "ipython",
    "version": 3
   },
   "file_extension": ".py",
   "mimetype": "text/x-python",
   "name": "python",
   "nbconvert_exporter": "python",
   "pygments_lexer": "ipython3",
   "version": "3.12.4"
  }
 },
 "nbformat": 4,
 "nbformat_minor": 2
}
