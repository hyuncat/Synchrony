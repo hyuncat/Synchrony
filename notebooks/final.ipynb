{
 "cells": [
  {
   "cell_type": "markdown",
   "metadata": {},
   "source": [
    "## Final violin-sally testground"
   ]
  },
  {
   "cell_type": "code",
   "execution_count": 1,
   "metadata": {},
   "outputs": [],
   "source": [
    "%load_ext autoreload\n",
    "%autoreload 2"
   ]
  },
  {
   "cell_type": "code",
   "execution_count": 2,
   "metadata": {},
   "outputs": [],
   "source": [
    "import sys\n",
    "sys.path.append('..') # leave the notebooks folder into root as the main\n",
    "\n",
    "from app.core.recording.Recording import Recording"
   ]
  },
  {
   "cell_type": "code",
   "execution_count": null,
   "metadata": {},
   "outputs": [
    {
     "name": "stdout",
     "output_type": "stream",
     "text": [
      "Processing frame 4589/4589\n",
      "Done!\n",
      "user_string <app.core.recording.Note.UserString object at 0x176a59b50>\n",
      "midi_string <app.core.recording.Note.MidiString object at 0x280cff8f0>\n"
     ]
    },
    {
     "name": "stderr",
     "output_type": "stream",
     "text": [
      "/Users/sarah/Desktop/shasha/virtuOS/notebooks/../app/algorithms/align/NoteDetector.py:18: FutureWarning: `rcond` parameter will change to the default of machine precision times ``max(M, N)`` where M and N are the input matrix dimensions.\n",
      "To use the future default and silence this warning we advise to pass `rcond=None`, to keep using the old, explicitly pass `rcond=-1`.\n",
      "  slope, intercept = np.linalg.lstsq(A, window)[0]\n",
      "/Users/sarah/Desktop/shasha/virtuOS/notebooks/../app/algorithms/align/NoteDetector.py:31: FutureWarning: `rcond` parameter will change to the default of machine precision times ``max(M, N)`` where M and N are the input matrix dimensions.\n",
      "To use the future default and silence this warning we advise to pass `rcond=None`, to keep using the old, explicitly pass `rcond=-1`.\n",
      "  slope, intercept = np.linalg.lstsq(A, window)[0]\n"
     ]
    }
   ],
   "source": [
    "# test workflow\n",
    "\n",
    "SOUNDFONT_FILEPATH = '../app/resources/MuseScore_General.sf3'\n",
    "MIDI_FILEPATH = '../app/resources/midi/fugue.mid'\n",
    "AUDIO_FILEPATH = '../app/resources/audio/user_fugue2.mp3'\n",
    "\n",
    "recording = Recording()\n",
    "recording.load_audio(AUDIO_FILEPATH)\n",
    "recording.load_midi(MIDI_FILEPATH)\n",
    "recording.detect_pitches()\n",
    "recording.align()"
   ]
  },
  {
   "cell_type": "code",
   "execution_count": 10,
   "metadata": {},
   "outputs": [
    {
     "name": "stdout",
     "output_type": "stream",
     "text": [
      "Plotting pitches...\n",
      "Done!\n"
     ]
    },
    {
     "name": "stderr",
     "output_type": "stream",
     "text": [
      "qt.pointer.dispatch: skipping QEventPoint(id=1 ts=0 pos=0,0 scn=849.211,651.014 gbl=849.211,651.014 Released ellipse=(1x1 ∡ 0) vel=0,0 press=-849.211,-651.014 last=-849.211,-651.014 Δ 849.211,651.014) : no target window\n"
     ]
    }
   ],
   "source": [
    "# View the pitch estimates in the app\n",
    "import sys\n",
    "sys.path.append('..')\n",
    "\n",
    "from app.ui.plots.PitchPlot import RunPitchPlot\n",
    "from app.core.midi.MidiData import MidiData\n",
    "from PyQt6.QtWidgets import QApplication\n",
    "from PyQt6.QtCore import QCoreApplication\n",
    "\n",
    "\n",
    "if __name__ == '__main__':\n",
    "    if not QCoreApplication.instance():\n",
    "        app = QApplication(sys.argv)\n",
    "    else:\n",
    "        app = QCoreApplication.instance()\n",
    "\n",
    "    p = [p[0] for p in recording.pitches.pitches]\n",
    "\n",
    "    pitchplot = RunPitchPlot(\n",
    "        app, midi_data=recording.midi_data, pitches=p, note_string=recording.user_string\n",
    "    )"
   ]
  },
  {
   "cell_type": "code",
   "execution_count": null,
   "metadata": {},
   "outputs": [],
   "source": []
  }
 ],
 "metadata": {
  "kernelspec": {
   "display_name": "v-venv",
   "language": "python",
   "name": "python3"
  },
  "language_info": {
   "codemirror_mode": {
    "name": "ipython",
    "version": 3
   },
   "file_extension": ".py",
   "mimetype": "text/x-python",
   "name": "python",
   "nbconvert_exporter": "python",
   "pygments_lexer": "ipython3",
   "version": "3.12.4"
  }
 },
 "nbformat": 4,
 "nbformat_minor": 2
}
