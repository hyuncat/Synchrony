{
 "cells": [
  {
   "cell_type": "markdown",
   "metadata": {},
   "source": [
    "## Final violin-sally testground"
   ]
  },
  {
   "cell_type": "code",
   "execution_count": 1,
   "metadata": {},
   "outputs": [],
   "source": [
    "%load_ext autoreload\n",
    "%autoreload 2"
   ]
  },
  {
   "cell_type": "code",
   "execution_count": 2,
   "metadata": {},
   "outputs": [],
   "source": [
    "import sys\n",
    "sys.path.append('..') # leave the notebooks folder into root as the main\n",
    "\n",
    "from app.core.recording.Recording import Recording"
   ]
  },
  {
   "cell_type": "code",
   "execution_count": 5,
   "metadata": {},
   "outputs": [
    {
     "name": "stdout",
     "output_type": "stream",
     "text": [
      "Processing frame 4589/4589\n",
      "Done!\n"
     ]
    }
   ],
   "source": [
    "# test workflow\n",
    "\n",
    "SOUNDFONT_FILEPATH = '../app/resources/MuseScore_General.sf3'\n",
    "MIDI_FILEPATH = '../app/resources/midi/fugue.mid'\n",
    "AUDIO_FILEPATH = '../app/resources/audio/user_fugue2.mp3'\n",
    "\n",
    "recording = Recording()\n",
    "recording.load_audio(AUDIO_FILEPATH)\n",
    "recording.load_midi(MIDI_FILEPATH)\n",
    "recording.detect_pitches()\n",
    "recording.align()"
   ]
  },
  {
   "cell_type": "code",
   "execution_count": 6,
   "metadata": {},
   "outputs": [
    {
     "name": "stdout",
     "output_type": "stream",
     "text": [
      "Plotting pitches...\n",
      "Done!\n"
     ]
    },
    {
     "name": "stderr",
     "output_type": "stream",
     "text": [
      "qt.pointer.dispatch: skipping QEventPoint(id=1 ts=0 pos=0,0 scn=390.485,367.14 gbl=390.485,367.14 Released ellipse=(1x1 ∡ 0) vel=0,0 press=-390.485,-367.14 last=-390.485,-367.14 Δ 390.485,367.14) : no target window\n",
      "qt.pointer.dispatch: skipping QEventPoint(id=1 ts=0 pos=0,0 scn=454.479,237.646 gbl=454.479,237.646 Released ellipse=(1x1 ∡ 0) vel=0,0 press=-454.479,-237.646 last=-454.479,-237.646 Δ 454.479,237.646) : no target window\n"
     ]
    }
   ],
   "source": [
    "# View the pitch estimates in the app\n",
    "import sys\n",
    "sys.path.append('..')\n",
    "\n",
    "from app.ui.plots.PitchPlot import RunPitchPlot\n",
    "from PyQt6.QtWidgets import QApplication\n",
    "from PyQt6.QtCore import QCoreApplication\n",
    "\n",
    "\n",
    "if __name__ == '__main__':\n",
    "    if not QCoreApplication.instance():\n",
    "        app = QApplication(sys.argv)\n",
    "    else:\n",
    "        app = QCoreApplication.instance()\n",
    "\n",
    "    p = [p[0] for p in recording.pitches.pitches]\n",
    "\n",
    "    pitchplot = RunPitchPlot(\n",
    "        app, midi_data=recording.midi_data, pitches=p, note_string=recording.user_string\n",
    "    )"
   ]
  },
  {
   "cell_type": "code",
   "execution_count": null,
   "metadata": {},
   "outputs": [],
   "source": []
  }
 ],
 "metadata": {
  "kernelspec": {
   "display_name": "v-venv",
   "language": "python",
   "name": "python3"
  },
  "language_info": {
   "codemirror_mode": {
    "name": "ipython",
    "version": 3
   },
   "file_extension": ".py",
   "mimetype": "text/x-python",
   "name": "python",
   "nbconvert_exporter": "python",
   "pygments_lexer": "ipython3",
   "version": "3.12.4"
  }
 },
 "nbformat": 4,
 "nbformat_minor": 2
}
